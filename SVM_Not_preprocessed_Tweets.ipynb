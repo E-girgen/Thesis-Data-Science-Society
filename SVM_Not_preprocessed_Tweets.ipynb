{
  "cells": [
    {
      "cell_type": "markdown",
      "metadata": {
        "id": "view-in-github",
        "colab_type": "text"
      },
      "source": [
        "<a href=\"https://colab.research.google.com/github/E-girgen/Thesis-Data-Science-Society/blob/main/SVM_Not_preprocessed_Tweets.ipynb\" target=\"_parent\"><img src=\"https://colab.research.google.com/assets/colab-badge.svg\" alt=\"Open In Colab\"/></a>"
      ]
    },
    {
      "cell_type": "code",
      "execution_count": null,
      "id": "2cc04f0b",
      "metadata": {
        "id": "2cc04f0b"
      },
      "outputs": [],
      "source": [
        "import pandas as pd"
      ]
    },
    {
      "cell_type": "code",
      "source": [
        "from google.colab import drive\n",
        "drive.mount('/content/drive')\n",
        "%cd \"/content/drive/MyDrive/\""
      ],
      "metadata": {
        "colab": {
          "base_uri": "https://localhost:8080/"
        },
        "id": "3DmjJCaqvvhH",
        "outputId": "3a9d5630-0509-4d27-82dd-258eaf903aa2"
      },
      "id": "3DmjJCaqvvhH",
      "execution_count": null,
      "outputs": [
        {
          "output_type": "stream",
          "name": "stdout",
          "text": [
            "Mounted at /content/drive\n",
            "/content/drive/MyDrive\n"
          ]
        }
      ]
    },
    {
      "cell_type": "code",
      "source": [
        "%cd \"/content/drive/MyDrive/Colab Notebooks\"\n"
      ],
      "metadata": {
        "colab": {
          "base_uri": "https://localhost:8080/"
        },
        "id": "mb8SWt944oaP",
        "outputId": "ec910e46-4052-4c83-ae21-8f481c41fff8"
      },
      "id": "mb8SWt944oaP",
      "execution_count": null,
      "outputs": [
        {
          "output_type": "stream",
          "name": "stdout",
          "text": [
            "/content/drive/MyDrive/Colab Notebooks\n"
          ]
        }
      ]
    },
    {
      "cell_type": "code",
      "execution_count": null,
      "id": "643195d3",
      "metadata": {
        "id": "643195d3"
      },
      "outputs": [],
      "source": [
        "data = pd.read_csv(\"Tweets.txt\", sep='\\t')\n",
        "\n"
      ]
    },
    {
      "cell_type": "code",
      "execution_count": null,
      "id": "28456f89",
      "metadata": {
        "id": "28456f89",
        "colab": {
          "base_uri": "https://localhost:8080/"
        },
        "outputId": "c0951911-477d-4721-ddfe-b79c9d4e9cab"
      },
      "outputs": [
        {
          "output_type": "stream",
          "name": "stdout",
          "text": [
            "                                                Text Category\n",
            "0  @LINDAnieuws Maandagmorgen en extra druk😣Dat i...    anger\n",
            "1  @9Owen1 Echt...zweet en shag..en dat een hele ...    anger\n",
            "2  @ohzitdatzo @telegraaf @VVD D66Pechtold zei 1e...    anger\n",
            "3  @PostNL heeft mijn pakket om 17.02 bezorgd all...    anger\n",
            "4  Na premiestijging ziektekosten en pensioen dit...    anger\n"
          ]
        }
      ],
      "source": [
        "# Verwijder rijen waarin 'category' gelijk is aan 'other'\n",
        "df = data[data['Category'] != 'other']\n",
        "\n",
        "# Maak een nieuwe DataFrame met de gewenste kolommen\n",
        "nd = df[[ 'Text', 'Category']]\n",
        "\n",
        "# Optioneel: Als je de index wilt resetten in de nieuwe DataFrame\n",
        "nd.reset_index(drop=True, inplace=True)\n",
        "\n",
        "# Bekijk de nieuwe DataFrame\n",
        "print(nd.head())"
      ]
    },
    {
      "cell_type": "code",
      "source": [
        "import pandas as pd\n",
        "import spacy\n",
        "from sklearn.feature_extraction.text import CountVectorizer\n",
        "from sklearn.model_selection import train_test_split\n",
        "from sklearn.naive_bayes import MultinomialNB\n",
        "from nltk.corpus import stopwords\n",
        "from sklearn.preprocessing import LabelEncoder"
      ],
      "metadata": {
        "id": "PLAxycKJBAzT"
      },
      "id": "PLAxycKJBAzT",
      "execution_count": null,
      "outputs": []
    },
    {
      "cell_type": "code",
      "source": [
        "label_encoder = LabelEncoder()\n",
        "nd['Category'] = label_encoder.fit_transform(nd['Category'])"
      ],
      "metadata": {
        "colab": {
          "base_uri": "https://localhost:8080/"
        },
        "id": "yPNHTgR3JXcY",
        "outputId": "7181ba94-e656-4621-cbde-87e4a1cfa9a7"
      },
      "id": "yPNHTgR3JXcY",
      "execution_count": null,
      "outputs": [
        {
          "output_type": "stream",
          "name": "stderr",
          "text": [
            "<ipython-input-8-e1ab72c6b0da>:2: SettingWithCopyWarning: \n",
            "A value is trying to be set on a copy of a slice from a DataFrame.\n",
            "Try using .loc[row_indexer,col_indexer] = value instead\n",
            "\n",
            "See the caveats in the documentation: https://pandas.pydata.org/pandas-docs/stable/user_guide/indexing.html#returning-a-view-versus-a-copy\n",
            "  nd['Category'] = label_encoder.fit_transform(nd['Category'])\n"
          ]
        }
      ]
    },
    {
      "cell_type": "code",
      "source": [
        "label_encodings = dict(zip(label_encoder.classes_, label_encoder.transform(label_encoder.classes_)))\n",
        "print(label_encodings)"
      ],
      "metadata": {
        "colab": {
          "base_uri": "https://localhost:8080/"
        },
        "id": "Ax_d5boMBrkG",
        "outputId": "fee7b99f-0ba1-42b3-f77e-203580e9c5e7"
      },
      "id": "Ax_d5boMBrkG",
      "execution_count": null,
      "outputs": [
        {
          "output_type": "stream",
          "name": "stdout",
          "text": [
            "{'anger': 0, 'fear': 1, 'joy': 2, 'love': 3, 'neutral': 4, 'sadness': 5}\n"
          ]
        }
      ]
    },
    {
      "cell_type": "code",
      "source": [
        "nd[\"Text\"]"
      ],
      "metadata": {
        "colab": {
          "base_uri": "https://localhost:8080/"
        },
        "id": "lMZdQeR6FBy2",
        "outputId": "0735222d-c43f-4147-d427-6f6f309894f1"
      },
      "id": "lMZdQeR6FBy2",
      "execution_count": null,
      "outputs": [
        {
          "output_type": "execute_result",
          "data": {
            "text/plain": [
              "0      @LINDAnieuws Maandagmorgen en extra druk😣Dat i...\n",
              "1      @9Owen1 Echt...zweet en shag..en dat een hele ...\n",
              "2      @ohzitdatzo @telegraaf @VVD D66Pechtold zei 1e...\n",
              "3      @PostNL heeft mijn pakket om 17.02 bezorgd all...\n",
              "4      Na premiestijging ziektekosten en pensioen dit...\n",
              "                             ...                        \n",
              "995    @interessamt Jammer dit😩voor ons zijn jullie w...\n",
              "996                                  @aamberrmm ik😩HAHSH\n",
              "997    @sarahelbihel Pff ik ben ook ziek echt stommm😢...\n",
              "998    wow wat n heftig nieuws zeg😢ik wens je heel ve...\n",
              "999    Schade na crash Rucphen! Knie bleef lang dik, ...\n",
              "Name: Text, Length: 1000, dtype: object"
            ]
          },
          "metadata": {},
          "execution_count": 10
        }
      ]
    },
    {
      "cell_type": "code",
      "execution_count": null,
      "id": "3b10053b",
      "metadata": {
        "id": "3b10053b"
      },
      "outputs": [],
      "source": [
        "import seaborn as sns\n",
        "import re\n",
        "import nltk\n",
        "import matplotlib.pyplot as plt\n",
        "from wordcloud import WordCloud\n",
        "from sklearn.ensemble import RandomForestClassifier\n",
        "from sklearn.linear_model import LogisticRegression\n",
        "from sklearn.svm import LinearSVC\n",
        "from sklearn.naive_bayes import MultinomialNB\n",
        "from sklearn.feature_extraction.text import CountVectorizer, TfidfVectorizer\n",
        "from sklearn.model_selection import train_test_split\n",
        "from sklearn.metrics import accuracy_score, classification_report\n",
        "from sklearn.preprocessing import LabelEncoder\n",
        "from tensorflow.keras.preprocessing.text import Tokenizer\n",
        "from tensorflow.keras.preprocessing.sequence import pad_sequences\n",
        "from tensorflow.keras.models import Sequential\n",
        "from tensorflow.keras.layers import Embedding, LSTM, Dense\n",
        "from tensorflow.keras.callbacks import EarlyStopping"
      ]
    },
    {
      "cell_type": "code",
      "source": [
        "from sklearn.model_selection import KFold, GridSearchCV\n",
        "from sklearn.metrics import confusion_matrix, accuracy_score, precision_score, recall_score, f1_score, classification_report\n",
        "from sklearn.feature_extraction.text import TfidfVectorizer\n",
        "from sklearn.svm import SVC\n",
        "from sklearn.preprocessing import LabelEncoder\n",
        "\n",
        "# Initialiseer een TfidfVectorizer\n",
        "vectorizer = TfidfVectorizer()\n",
        "\n",
        "fold_number = 10\n",
        "\n",
        "# Transformeer de tekst naar vectoren\n",
        "X_tfidf = vectorizer.fit_transform(nd['Text'])\n",
        "y_labels = nd['Category']\n",
        "\n",
        "# Initialiseer een LabelEncoder\n",
        "label_encoder = LabelEncoder()\n",
        "\n",
        "# Encodeer de categorieën naar numerieke waarden\n",
        "y_labels_encoded = label_encoder.fit_transform(y_labels)\n",
        "\n",
        "# Initialiseer het Support Vector Machine-model\n",
        "svm = SVC()\n",
        "\n",
        "# Definieer het parametergrid voor GridSearchCV\n",
        "param_grid = {\n",
        "    'C': [0.1, 1, 10],\n",
        "    'kernel': ['linear', 'poly', 'rbf', 'sigmoid'],\n",
        "    'degree': [3, 5, 7],\n",
        "    'coef0': [0, 1, 3]\n",
        "}\n",
        "\n",
        "# Initialiseer K-Fold cross-validator\n",
        "kf = KFold(n_splits=10, shuffle=True, random_state=2022)\n",
        "\n",
        "# Initialiseer GridSearchCV met 10-fold cross-validation en f1-macro als score\n",
        "grid_search = GridSearchCV(estimator=svm, param_grid=param_grid, cv=kf, scoring='f1_macro')\n",
        "\n",
        "# Lijsten om resultaten per fold op te slaan\n",
        "accuracies = []\n",
        "precisions = []\n",
        "recalls = []\n",
        "f1_scores = []\n",
        "conf_matrices = []\n",
        "\n",
        "# Loop over de folds\n",
        "for fold, (train_idx, test_idx) in enumerate(kf.split(X_tfidf)):\n",
        "    if fold == fold_number - 1:  # Indexen zijn 0-gebaseerd, daarom -1\n",
        "        X_train, X_test = X_tfidf[train_idx], X_tfidf[test_idx]\n",
        "        y_train, y_test = y_labels_encoded[train_idx], y_labels_encoded[test_idx]\n",
        "\n",
        "        # Voer GridSearchCV uit op de trainingsdata\n",
        "        grid_search.fit(X_train, y_train)\n",
        "\n",
        "        # Haal de beste parameters op\n",
        "        best_params = grid_search.best_params_\n",
        "\n",
        "        # Gebruik de beste parameters in je definitieve model\n",
        "        final_svm = SVC(**best_params)\n",
        "\n",
        "        # Train het model op de trainingsdata\n",
        "        final_svm.fit(X_train, y_train)\n",
        "\n",
        "        # Voorspel de categorieën op de testset\n",
        "        y_pred = final_svm.predict(X_test)\n",
        "\n",
        "        # Decodeer de voorspelde labels terug naar de originele tekstuele categorieën\n",
        "        y_test_decoded = label_encoder.inverse_transform(y_test)\n",
        "        y_pred_decoded = label_encoder.inverse_transform(y_pred)\n",
        "\n",
        "        # Bereken en sla de metingen op\n",
        "        accuracy = accuracy_score(y_test, y_pred)\n",
        "        precision = precision_score(y_test, y_pred, average='macro')\n",
        "        recall = recall_score(y_test, y_pred, average='macro')\n",
        "        f1 = f1_score(y_test, y_pred, average='macro')\n",
        "        conf_matrix = confusion_matrix(y_test, y_pred)\n",
        "\n",
        "        accuracies.append(accuracy)\n",
        "        precisions.append(precision)\n",
        "        recalls.append(recall)\n",
        "        f1_scores.append(f1)\n",
        "        conf_matrices.append(conf_matrix)\n",
        "\n",
        "        print(f\"Fold {fold + 1} - Nauwkeurigheid: {accuracy}, Precisie: {precision}, Recall: {recall}, F1-Score: {f1}\")\n",
        "\n",
        "        # Druk het classificatie rapport af\n",
        "        print(\"Classificatie Rapport:\")\n",
        "        print(classification_report(y_test_decoded, y_pred_decoded))\n",
        "\n",
        "        # Plot de verwarringstabel als een heatmap\n",
        "        plt.figure(figsize=(8, 6))\n",
        "        sns.heatmap(conf_matrix, annot=True, fmt='g', cmap='Blues', xticklabels=label_encoder.classes_, yticklabels=label_encoder.classes_)\n",
        "        plt.xlabel('Voorspelde Labels')\n",
        "        plt.ylabel('Echte Labels')\n",
        "        plt.title(f'Verwarringstabel voor Fold {fold + 1}')\n",
        "        plt.show()\n",
        "\n",
        "# Gemiddelde scores over alle folds\n",
        "avg_accuracy = sum(accuracies) / len(accuracies)\n",
        "avg_precision = sum(precisions) / len(precisions)\n",
        "avg_recall = sum(recalls) / len(recalls)\n",
        "avg_f1 = sum(f1_scores) / len(f1_scores)\n",
        "\n",
        "print(f\"\\nGemiddelde scores over alle folds - Nauwkeurigheid: {avg_accuracy}, Precisie: {avg_precision}, Recall: {avg_recall}, F1-Score: {avg_f1}\")\n"
      ],
      "metadata": {
        "colab": {
          "base_uri": "https://localhost:8080/",
          "height": 1000
        },
        "id": "WvD-vSqi5Cmc",
        "outputId": "20b64b6a-9484-467a-e39b-05944c4f60e0"
      },
      "id": "WvD-vSqi5Cmc",
      "execution_count": null,
      "outputs": [
        {
          "output_type": "stream",
          "name": "stderr",
          "text": [
            "/usr/local/lib/python3.10/dist-packages/sklearn/metrics/_classification.py:1344: UndefinedMetricWarning: Precision is ill-defined and being set to 0.0 in labels with no predicted samples. Use `zero_division` parameter to control this behavior.\n",
            "  _warn_prf(average, modifier, msg_start, len(result))\n",
            "/usr/local/lib/python3.10/dist-packages/sklearn/metrics/_classification.py:1344: UndefinedMetricWarning: Precision and F-score are ill-defined and being set to 0.0 in labels with no predicted samples. Use `zero_division` parameter to control this behavior.\n",
            "  _warn_prf(average, modifier, msg_start, len(result))\n",
            "/usr/local/lib/python3.10/dist-packages/sklearn/metrics/_classification.py:1344: UndefinedMetricWarning: Precision and F-score are ill-defined and being set to 0.0 in labels with no predicted samples. Use `zero_division` parameter to control this behavior.\n",
            "  _warn_prf(average, modifier, msg_start, len(result))\n",
            "/usr/local/lib/python3.10/dist-packages/sklearn/metrics/_classification.py:1344: UndefinedMetricWarning: Precision and F-score are ill-defined and being set to 0.0 in labels with no predicted samples. Use `zero_division` parameter to control this behavior.\n",
            "  _warn_prf(average, modifier, msg_start, len(result))\n"
          ]
        },
        {
          "output_type": "stream",
          "name": "stdout",
          "text": [
            "Fold 10 - Nauwkeurigheid: 0.37, Precisie: 0.17850877192982453, Recall: 0.20525030525030527, F1-Score: 0.1855779427359491\n",
            "Classificatie Rapport:\n",
            "              precision    recall  f1-score   support\n",
            "\n",
            "           0       0.40      0.31      0.35        26\n",
            "           1       0.00      0.00      0.00         5\n",
            "           2       0.42      0.69      0.52        35\n",
            "           3       0.00      0.00      0.00         3\n",
            "           4       0.25      0.24      0.24        21\n",
            "           5       0.00      0.00      0.00        10\n",
            "\n",
            "    accuracy                           0.37       100\n",
            "   macro avg       0.18      0.21      0.19       100\n",
            "weighted avg       0.30      0.37      0.32       100\n",
            "\n"
          ]
        },
        {
          "output_type": "display_data",
          "data": {
            "text/plain": [
              "<Figure size 800x600 with 2 Axes>"
            ],
            "image/png": "[encoded data removed]"
          },
          "metadata": {}
        },
        {
          "output_type": "stream",
          "name": "stdout",
          "text": [
            "\n",
            "Gemiddelde scores over alle folds - Nauwkeurigheid: 0.37, Precisie: 0.17850877192982453, Recall: 0.20525030525030527, F1-Score: 0.1855779427359491\n"
          ]
        }
      ]
    },
    {
      "cell_type": "markdown",
      "source": [
        "With smote"
      ],
      "metadata": {
        "id": "JzZiMMXT98ES"
      },
      "id": "JzZiMMXT98ES"
    },
    {
      "cell_type": "code",
      "source": [
        "from sklearn.model_selection import KFold, GridSearchCV\n",
        "from sklearn.metrics import confusion_matrix, accuracy_score, precision_score, recall_score, f1_score, classification_report\n",
        "from sklearn.feature_extraction.text import TfidfVectorizer\n",
        "from sklearn.svm import SVC\n",
        "from sklearn.preprocessing import LabelEncoder\n",
        "from imblearn.over_sampling import SMOTE\n",
        "\n",
        "# Initialize a TfidfVectorizer\n",
        "vectorizer = TfidfVectorizer()\n",
        "\n",
        "fold_number = 10\n",
        "\n",
        "# Transform text to vectors\n",
        "X_tfidf = vectorizer.fit_transform(nd['Text'])\n",
        "y_labels = nd['Category']\n",
        "\n",
        "# Initialize a LabelEncoder\n",
        "label_encoder = LabelEncoder()\n",
        "\n",
        "# Encode the categories into numerical values\n",
        "y_labels_encoded = label_encoder.fit_transform(y_labels)\n",
        "\n",
        "# Initialize the Support Vector Machine model\n",
        "svm = SVC()\n",
        "\n",
        "# Initialize K-Fold cross-validator\n",
        "kf = KFold(n_splits=10, shuffle=True, random_state=2022)\n",
        "\n",
        "# Initialize GridSearchCV with 10-fold cross-validation and f1-macro as the scoring metric\n",
        "grid_search = GridSearchCV(estimator=svm, param_grid=param_grid, cv=kf, scoring='f1_macro')\n",
        "\n",
        "# Lists to store results per fold\n",
        "accuracies = []\n",
        "precisions = []\n",
        "recalls = []\n",
        "f1_scores = []\n",
        "conf_matrices = []\n",
        "\n",
        "# Loop over the folds\n",
        "for fold, (train_idx, test_idx) in enumerate(kf.split(X_tfidf)):\n",
        "    if fold == fold_number - 1:  # Indexes are 0-based, hence -1\n",
        "        X_train, X_test = X_tfidf[train_idx], X_tfidf[test_idx]\n",
        "        y_train, y_test = y_labels_encoded[train_idx], y_labels_encoded[test_idx]\n",
        "\n",
        "        # Apply SMOTE to balance the class distribution\n",
        "        smote = SMOTE(random_state=2022)\n",
        "        X_train_resampled, y_train_resampled = smote.fit_resample(X_train, y_train)\n",
        "\n",
        "        # Use the best parameters in your final model\n",
        "        final_svm = SVC(**best_params)\n",
        "\n",
        "        # Train the model on the resampled training data\n",
        "        final_svm.fit(X_train_resampled, y_train_resampled)\n",
        "\n",
        "        # Predict categories on the test set\n",
        "        y_pred = final_svm.predict(X_test)\n",
        "\n",
        "        # Decode the predicted labels back to the original textual categories\n",
        "        y_test_decoded = label_encoder.inverse_transform(y_test)\n",
        "        y_pred_decoded = label_encoder.inverse_transform(y_pred)\n",
        "\n",
        "        # Calculate and store the metrics\n",
        "        accuracy = accuracy_score(y_test, y_pred)\n",
        "        precision = precision_score(y_test, y_pred, average='macro')\n",
        "        recall = recall_score(y_test, y_pred, average='macro')\n",
        "        f1 = f1_score(y_test, y_pred, average='macro')\n",
        "        conf_matrix = confusion_matrix(y_test, y_pred)\n",
        "\n",
        "        accuracies.append(accuracy)\n",
        "        precisions.append(precision)\n",
        "        recalls.append(recall)\n",
        "        f1_scores.append(f1)\n",
        "        conf_matrices.append(conf_matrix)\n",
        "\n",
        "        print(f\"Fold {fold + 1} - Accuracy: {accuracy}, Precision: {precision}, Recall: {recall}, F1-Score: {f1}\")\n",
        "\n",
        "        # Print the classification report\n",
        "        print(\"Classification Report:\")\n",
        "        print(classification_report(y_test_decoded, y_pred_decoded))\n",
        "\n",
        "        # Plot the confusion matrix as a heatmap\n",
        "        plt.figure(figsize=(8, 6))\n",
        "        sns.heatmap(conf_matrix, annot=True, fmt='g', cmap='Blues', xticklabels=label_encoder.classes_, yticklabels=label_encoder.classes_)\n",
        "        plt.xlabel('Predicted Labels')\n",
        "        plt.ylabel('True Labels')\n",
        "        plt.title(f'Confusion Matrix for Fold {fold + 1}')\n",
        "        plt.show()\n",
        "\n",
        "# Average scores across all folds\n",
        "avg_accuracy = sum(accuracies) / len(accuracies)\n",
        "avg_precision = sum(precisions) / len(precisions)\n",
        "avg_recall = sum(recalls) / len(recalls)\n",
        "avg_f1 = sum(f1_scores) / len(f1_scores)\n",
        "\n",
        "print(f\"\\nAverage scores across all folds - Accuracy: {avg_accuracy}, Precision: {avg_precision}, Recall: {avg_recall}, F1-Score: {avg_f1}\")"
      ],
      "metadata": {
        "colab": {
          "base_uri": "https://localhost:8080/",
          "height": 859
        },
        "id": "7rqVbGs49-gG",
        "outputId": "080a8316-583f-462e-a706-da79c4879e3e"
      },
      "id": "7rqVbGs49-gG",
      "execution_count": null,
      "outputs": [
        {
          "output_type": "stream",
          "name": "stdout",
          "text": [
            "Fold 10 - Accuracy: 0.26, Precision: 0.13888888888888887, Recall: 0.14804639804639805, F1-Score: 0.14177501970055162\n",
            "Classification Report:\n",
            "              precision    recall  f1-score   support\n",
            "\n",
            "           0       0.33      0.27      0.30        26\n",
            "           1       0.00      0.00      0.00         5\n",
            "           2       0.33      0.43      0.38        35\n",
            "           3       0.00      0.00      0.00         3\n",
            "           4       0.17      0.19      0.18        21\n",
            "           5       0.00      0.00      0.00        10\n",
            "\n",
            "    accuracy                           0.26       100\n",
            "   macro avg       0.14      0.15      0.14       100\n",
            "weighted avg       0.24      0.26      0.25       100\n",
            "\n"
          ]
        },
        {
          "output_type": "display_data",
          "data": {
            "text/plain": [
              "<Figure size 800x600 with 2 Axes>"
            ],
            "image/png": "[encoded data removed]"
          },
          "metadata": {}
        },
        {
          "output_type": "stream",
          "name": "stdout",
          "text": [
            "\n",
            "Average scores across all folds - Accuracy: 0.26, Precision: 0.13888888888888887, Recall: 0.14804639804639805, F1-Score: 0.14177501970055162\n"
          ]
        }
      ]
    },
    {
      "cell_type": "markdown",
      "source": [],
      "metadata": {
        "id": "a7jUhj_x96ka"
      },
      "id": "a7jUhj_x96ka"
    },
    {
      "cell_type": "code",
      "source": [
        "example_sentence = \"Zeker, zeker. Dan ruïneert hij mijn leven gewoon en dan gaat het sowieso niet de goeie kant op. Hier is het rechtssysteem, vergeleken met Nederland, zit hier echt heel scheef in elkaar.\"\n",
        "example_sentence_tfidf = vectorizer.transform([example_sentence])\n",
        "example_pred = final_svm.predict(example_sentence_tfidf)\n",
        "\n",
        "print(f\"Voorspelde emotie voor de voorbeeldzin: {example_pred[0]}\")\n"
      ],
      "metadata": {
        "colab": {
          "base_uri": "https://localhost:8080/"
        },
        "id": "RF6xlPVZUOQC",
        "outputId": "9b5f8396-7703-486f-e3e5-2389c24fdbea"
      },
      "id": "RF6xlPVZUOQC",
      "execution_count": null,
      "outputs": [
        {
          "output_type": "stream",
          "name": "stdout",
          "text": [
            "Voorspelde emotie voor de voorbeeldzin: 2\n"
          ]
        }
      ]
    }
  ],
  "metadata": {
    "kernelspec": {
      "display_name": "Python 3",
      "name": "python3"
    },
    "language_info": {
      "codemirror_mode": {
        "name": "ipython",
        "version": 3
      },
      "file_extension": ".py",
      "mimetype": "text/x-python",
      "name": "python",
      "nbconvert_exporter": "python",
      "pygments_lexer": "ipython3",
      "version": "3.11.5"
    },
    "colab": {
      "provenance": [],
      "include_colab_link": true
    },
    "accelerator": "TPU"
  },
  "nbformat": 4,
  "nbformat_minor": 5
}