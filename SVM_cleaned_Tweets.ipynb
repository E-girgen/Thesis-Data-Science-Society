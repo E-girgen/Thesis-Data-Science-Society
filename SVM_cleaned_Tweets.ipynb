{
  "cells": [
    {
      "cell_type": "markdown",
      "metadata": {
        "id": "view-in-github",
        "colab_type": "text"
      },
      "source": [
        "<a href=\"https://colab.research.google.com/github/E-girgen/Thesis-Data-Science-Society/blob/main/SVM_cleaned_Tweets.ipynb\" target=\"_parent\"><img src=\"https://colab.research.google.com/assets/colab-badge.svg\" alt=\"Open In Colab\"/></a>"
      ]
    },
    {
      "cell_type": "code",
      "execution_count": null,
      "id": "2cc04f0b",
      "metadata": {
        "id": "2cc04f0b"
      },
      "outputs": [],
      "source": [
        "import pandas as pd"
      ]
    },
    {
      "cell_type": "code",
      "source": [
        "from google.colab import drive\n",
        "drive.mount('/content/drive')\n",
        "%cd \"/content/drive/MyDrive/\""
      ],
      "metadata": {
        "colab": {
          "base_uri": "https://localhost:8080/"
        },
        "id": "3DmjJCaqvvhH",
        "outputId": "6f985e04-48bc-49d4-fca8-bd072d99c967"
      },
      "id": "3DmjJCaqvvhH",
      "execution_count": null,
      "outputs": [
        {
          "output_type": "stream",
          "name": "stdout",
          "text": [
            "Mounted at /content/drive\n",
            "/content/drive/MyDrive\n"
          ]
        }
      ]
    },
    {
      "cell_type": "code",
      "source": [
        "%cd \"/content/drive/MyDrive/Colab Notebooks\"\n"
      ],
      "metadata": {
        "colab": {
          "base_uri": "https://localhost:8080/"
        },
        "id": "mb8SWt944oaP",
        "outputId": "f4ba957a-893c-4d3e-c940-8f8eacca3577"
      },
      "id": "mb8SWt944oaP",
      "execution_count": null,
      "outputs": [
        {
          "output_type": "stream",
          "name": "stdout",
          "text": [
            "/content/drive/MyDrive/Colab Notebooks\n"
          ]
        }
      ]
    },
    {
      "cell_type": "code",
      "execution_count": null,
      "id": "643195d3",
      "metadata": {
        "id": "643195d3"
      },
      "outputs": [],
      "source": [
        "data = pd.read_csv(\"cleaned_tweets.csv\")\n",
        " # Stel tab als scheidingsteken in\n"
      ]
    },
    {
      "cell_type": "code",
      "execution_count": null,
      "id": "28456f89",
      "metadata": {
        "id": "28456f89",
        "colab": {
          "base_uri": "https://localhost:8080/"
        },
        "outputId": "20d13a36-55d1-423f-8589-1579237447cb"
      },
      "outputs": [
        {
          "output_type": "stream",
          "name": "stdout",
          "text": [
            "                                                Text Category\n",
            "0  maandagmorgen en extra drukdat is nu voordeel ...    anger\n",
            "1  echtzweet en shagen dat een hele dagje zal erm...    anger\n",
            "2  d66pechtold zei 1e belangrijkstepoging😂dream o...    anger\n",
            "3  heeft mijn pakket om 1702 bezorgd alleen niet ...    anger\n",
            "4  na premiestijging ziektekosten en pensioen dit...    anger\n"
          ]
        }
      ],
      "source": [
        "# Verwijder rijen waarin 'category' gelijk is aan 'other'\n",
        "df = data[data['Category'] != 'other']\n",
        "\n",
        "# Maak een nieuwe DataFrame met de gewenste kolommen\n",
        "nd = df[[ 'Text', 'Category']]\n",
        "\n",
        "# Optioneel: Als je de index wilt resetten in de nieuwe DataFrame\n",
        "nd.reset_index(drop=True, inplace=True)\n",
        "\n",
        "# Bekijk de nieuwe DataFrame\n",
        "print(nd.head())"
      ]
    },
    {
      "cell_type": "code",
      "source": [
        "import pandas as pd\n",
        "import spacy\n",
        "from sklearn.feature_extraction.text import CountVectorizer\n",
        "from sklearn.model_selection import train_test_split\n",
        "from sklearn.naive_bayes import MultinomialNB\n",
        "from nltk.corpus import stopwords\n",
        "from sklearn.preprocessing import LabelEncoder"
      ],
      "metadata": {
        "id": "PLAxycKJBAzT"
      },
      "id": "PLAxycKJBAzT",
      "execution_count": null,
      "outputs": []
    },
    {
      "cell_type": "code",
      "source": [
        "label_encoder = LabelEncoder()\n",
        "nd['Category'] = label_encoder.fit_transform(nd['Category'])"
      ],
      "metadata": {
        "id": "yPNHTgR3JXcY"
      },
      "id": "yPNHTgR3JXcY",
      "execution_count": null,
      "outputs": []
    },
    {
      "cell_type": "code",
      "source": [
        "label_encodings = dict(zip(label_encoder.classes_, label_encoder.transform(label_encoder.classes_)))\n",
        "print(label_encodings)"
      ],
      "metadata": {
        "colab": {
          "base_uri": "https://localhost:8080/"
        },
        "id": "Ax_d5boMBrkG",
        "outputId": "4bec6869-ed14-48f4-cee9-3ed426376d4f"
      },
      "id": "Ax_d5boMBrkG",
      "execution_count": null,
      "outputs": [
        {
          "output_type": "stream",
          "name": "stdout",
          "text": [
            "{'anger': 0, 'fear': 1, 'joy': 2, 'love': 3, 'neutral': 4, 'sadness': 5}\n"
          ]
        }
      ]
    },
    {
      "cell_type": "code",
      "source": [
        "nd[\"Text\"]"
      ],
      "metadata": {
        "colab": {
          "base_uri": "https://localhost:8080/"
        },
        "id": "lMZdQeR6FBy2",
        "outputId": "48a1b3ff-f325-4856-c486-81ffdbfa0515"
      },
      "id": "lMZdQeR6FBy2",
      "execution_count": null,
      "outputs": [
        {
          "output_type": "execute_result",
          "data": {
            "text/plain": [
              "0      maandagmorgen en extra drukdat is nu voordeel ...\n",
              "1      echtzweet en shagen dat een hele dagje zal erm...\n",
              "2      d66pechtold zei 1e belangrijkstepoging😂dream o...\n",
              "3      heeft mijn pakket om 1702 bezorgd alleen niet ...\n",
              "4      na premiestijging ziektekosten en pensioen dit...\n",
              "                             ...                        \n",
              "995    jammer ditvoor ons zijn jullie winnaarsduimtro...\n",
              "996                                              ikhahsh\n",
              "997    pff ik ben ook ziek echt stommmmaar beterschap...\n",
              "998    wow wat n heftig nieuws zegik wens je heel vee...\n",
              "999    schade na crash rucphen knie bleef lang dik mr...\n",
              "Name: Text, Length: 1000, dtype: object"
            ]
          },
          "metadata": {},
          "execution_count": 10
        }
      ]
    },
    {
      "cell_type": "code",
      "execution_count": null,
      "id": "3b10053b",
      "metadata": {
        "id": "3b10053b"
      },
      "outputs": [],
      "source": [
        "import seaborn as sns\n",
        "import re\n",
        "import nltk\n",
        "import matplotlib.pyplot as plt\n",
        "from wordcloud import WordCloud\n",
        "from sklearn.ensemble import RandomForestClassifier\n",
        "from sklearn.linear_model import LogisticRegression\n",
        "from sklearn.svm import LinearSVC\n",
        "from sklearn.naive_bayes import MultinomialNB\n",
        "from sklearn.feature_extraction.text import CountVectorizer, TfidfVectorizer\n",
        "from sklearn.model_selection import train_test_split\n",
        "from sklearn.metrics import accuracy_score, classification_report\n",
        "from sklearn.preprocessing import LabelEncoder\n",
        "from tensorflow.keras.preprocessing.text import Tokenizer\n",
        "from tensorflow.keras.preprocessing.sequence import pad_sequences\n",
        "from tensorflow.keras.models import Sequential\n",
        "from tensorflow.keras.layers import Embedding, LSTM, Dense\n",
        "from tensorflow.keras.callbacks import EarlyStopping"
      ]
    },
    {
      "cell_type": "code",
      "source": [
        "from sklearn.model_selection import KFold, GridSearchCV\n",
        "from sklearn.metrics import confusion_matrix, accuracy_score, precision_score, recall_score, f1_score, classification_report\n",
        "from sklearn.feature_extraction.text import TfidfVectorizer\n",
        "from sklearn.svm import SVC\n",
        "from sklearn.preprocessing import LabelEncoder\n",
        "\n",
        "# Initialiseer een TfidfVectorizer\n",
        "vectorizer = TfidfVectorizer()\n",
        "\n",
        "fold_number = 10\n",
        "\n",
        "# Transformeer de tekst naar vectoren\n",
        "X_tfidf = vectorizer.fit_transform(nd['Text'])\n",
        "y_labels = nd['Category']\n",
        "\n",
        "# Initialiseer een LabelEncoder\n",
        "label_encoder = LabelEncoder()\n",
        "\n",
        "# Encodeer de categorieën naar numerieke waarden\n",
        "y_labels_encoded = label_encoder.fit_transform(y_labels)\n",
        "\n",
        "# Initialiseer het Support Vector Machine-model\n",
        "svm = SVC()\n",
        "\n",
        "# Definieer het parametergrid voor GridSearchCV\n",
        "param_grid = {\n",
        "    'C': [0.1, 1, 10],\n",
        "    'kernel': ['linear', 'poly', 'rbf', 'sigmoid'],\n",
        "    'degree': [3, 5, 7],\n",
        "    'coef0': [0, 1, 3]\n",
        "}\n",
        "\n",
        "# Initialiseer K-Fold cross-validator\n",
        "kf = KFold(n_splits=10, shuffle=True, random_state=2022)\n",
        "\n",
        "# Initialiseer GridSearchCV met 10-fold cross-validation en f1-macro als score\n",
        "grid_search = GridSearchCV(estimator=svm, param_grid=param_grid, cv=kf, scoring='f1_macro')\n",
        "\n",
        "# Lijsten om resultaten per fold op te slaan\n",
        "accuracies = []\n",
        "precisions = []\n",
        "recalls = []\n",
        "f1_scores = []\n",
        "conf_matrices = []\n",
        "\n",
        "# Loop over de folds\n",
        "for fold, (train_idx, test_idx) in enumerate(kf.split(X_tfidf)):\n",
        "    if fold == fold_number - 1:  # Indexen zijn 0-gebaseerd, daarom -1\n",
        "        X_train, X_test = X_tfidf[train_idx], X_tfidf[test_idx]\n",
        "        y_train, y_test = y_labels_encoded[train_idx], y_labels_encoded[test_idx]\n",
        "\n",
        "        # Voer GridSearchCV uit op de trainingsdata\n",
        "        grid_search.fit(X_train, y_train)\n",
        "\n",
        "        # Haal de beste parameters op\n",
        "        best_params = grid_search.best_params_\n",
        "\n",
        "        # Gebruik de beste parameters in je definitieve model\n",
        "        final_svm = SVC(**best_params)\n",
        "\n",
        "        # Train het model op de trainingsdata\n",
        "        final_svm.fit(X_train, y_train)\n",
        "\n",
        "        # Voorspel de categorieën op de testset\n",
        "        y_pred = final_svm.predict(X_test)\n",
        "\n",
        "        # Decodeer de voorspelde labels terug naar de originele tekstuele categorieën\n",
        "        y_test_decoded = label_encoder.inverse_transform(y_test)\n",
        "        y_pred_decoded = label_encoder.inverse_transform(y_pred)\n",
        "\n",
        "        # Bereken en sla de metingen op\n",
        "        accuracy = accuracy_score(y_test, y_pred)\n",
        "        precision = precision_score(y_test, y_pred, average='macro')\n",
        "        recall = recall_score(y_test, y_pred, average='macro')\n",
        "        f1 = f1_score(y_test, y_pred, average='macro')\n",
        "        conf_matrix = confusion_matrix(y_test, y_pred)\n",
        "\n",
        "        accuracies.append(accuracy)\n",
        "        precisions.append(precision)\n",
        "        recalls.append(recall)\n",
        "        f1_scores.append(f1)\n",
        "        conf_matrices.append(conf_matrix)\n",
        "\n",
        "        print(f\"Fold {fold + 1} - Nauwkeurigheid: {accuracy}, Precisie: {precision}, Recall: {recall}, F1-Score: {f1}\")\n",
        "\n",
        "        # Druk het classificatie rapport af\n",
        "        print(\"Classificatie Rapport:\")\n",
        "        print(classification_report(y_test_decoded, y_pred_decoded))\n",
        "\n",
        "        # Plot de verwarringstabel als een heatmap\n",
        "        plt.figure(figsize=(8, 6))\n",
        "        sns.heatmap(conf_matrix, annot=True, fmt='g', cmap='Blues', xticklabels=label_encoder.classes_, yticklabels=label_encoder.classes_)\n",
        "        plt.xlabel('Voorspelde Labels')\n",
        "        plt.ylabel('Echte Labels')\n",
        "        plt.title(f'Verwarringstabel voor Fold {fold + 1}')\n",
        "        plt.show()\n",
        "\n",
        "# Gemiddelde scores over alle folds\n",
        "avg_accuracy = sum(accuracies) / len(accuracies)\n",
        "avg_precision = sum(precisions) / len(precisions)\n",
        "avg_recall = sum(recalls) / len(recalls)\n",
        "avg_f1 = sum(f1_scores) / len(f1_scores)\n",
        "\n",
        "print(f\"\\nGemiddelde scores over alle folds - Nauwkeurigheid: {avg_accuracy}, Precisie: {avg_precision}, Recall: {avg_recall}, F1-Score: {avg_f1}\")\n"
      ],
      "metadata": {
        "colab": {
          "base_uri": "https://localhost:8080/",
          "height": 879
        },
        "id": "u-PBB1aigMC3",
        "outputId": "44fd9f4e-9e31-4591-eeae-4c754d043a84"
      },
      "id": "u-PBB1aigMC3",
      "execution_count": null,
      "outputs": [
        {
          "output_type": "stream",
          "name": "stdout",
          "text": [
            "Fold 10 - Nauwkeurigheid: 0.38, Precisie: 0.34528619528619525, Recall: 0.2608058608058608, F1-Score: 0.26995167819800575\n",
            "Classificatie Rapport:\n",
            "              precision    recall  f1-score   support\n",
            "\n",
            "           0       0.40      0.31      0.35        26\n",
            "           1       0.00      0.00      0.00         5\n",
            "           2       0.44      0.69      0.54        35\n",
            "           3       1.00      0.33      0.50         3\n",
            "           4       0.23      0.24      0.23        21\n",
            "           5       0.00      0.00      0.00        10\n",
            "\n",
            "    accuracy                           0.38       100\n",
            "   macro avg       0.35      0.26      0.27       100\n",
            "weighted avg       0.34      0.38      0.34       100\n",
            "\n"
          ]
        },
        {
          "output_type": "display_data",
          "data": {
            "text/plain": [
              "<Figure size 800x600 with 2 Axes>"
            ],
            "image/png": "[encoded data removed]"
          },
          "metadata": {}
        },
        {
          "output_type": "stream",
          "name": "stdout",
          "text": [
            "\n",
            "Gemiddelde scores over alle folds - Nauwkeurigheid: 0.38, Precisie: 0.34528619528619525, Recall: 0.2608058608058608, F1-Score: 0.26995167819800575\n"
          ]
        }
      ]
    },
    {
      "cell_type": "code",
      "source": [
        "final_svm"
      ],
      "metadata": {
        "colab": {
          "base_uri": "https://localhost:8080/",
          "height": 74
        },
        "id": "XQOOBdlhCpzl",
        "outputId": "1e2b031b-1638-4969-b526-e0d27121e5c1"
      },
      "id": "XQOOBdlhCpzl",
      "execution_count": null,
      "outputs": [
        {
          "output_type": "execute_result",
          "data": {
            "text/plain": [
              "SVC(C=10, coef0=0, kernel='sigmoid')"
            ],
            "text/html": [
              "<style>#sk-container-id-1 {color: black;background-color: white;}#sk-container-id-1 pre{padding: 0;}#sk-container-id-1 div.sk-toggleable {background-color: white;}#sk-container-id-1 label.sk-toggleable__label {cursor: pointer;display: block;width: 100%;margin-bottom: 0;padding: 0.3em;box-sizing: border-box;text-align: center;}#sk-container-id-1 label.sk-toggleable__label-arrow:before {content: \"▸\";float: left;margin-right: 0.25em;color: #696969;}#sk-container-id-1 label.sk-toggleable__label-arrow:hover:before {color: black;}#sk-container-id-1 div.sk-estimator:hover label.sk-toggleable__label-arrow:before {color: black;}#sk-container-id-1 div.sk-toggleable__content {max-height: 0;max-width: 0;overflow: hidden;text-align: left;background-color: #f0f8ff;}#sk-container-id-1 div.sk-toggleable__content pre {margin: 0.2em;color: black;border-radius: 0.25em;background-color: #f0f8ff;}#sk-container-id-1 input.sk-toggleable__control:checked~div.sk-toggleable__content {max-height: 200px;max-width: 100%;overflow: auto;}#sk-container-id-1 input.sk-toggleable__control:checked~label.sk-toggleable__label-arrow:before {content: \"▾\";}#sk-container-id-1 div.sk-estimator input.sk-toggleable__control:checked~label.sk-toggleable__label {background-color: #d4ebff;}#sk-container-id-1 div.sk-label input.sk-toggleable__control:checked~label.sk-toggleable__label {background-color: #d4ebff;}#sk-container-id-1 input.sk-hidden--visually {border: 0;clip: rect(1px 1px 1px 1px);clip: rect(1px, 1px, 1px, 1px);height: 1px;margin: -1px;overflow: hidden;padding: 0;position: absolute;width: 1px;}#sk-container-id-1 div.sk-estimator {font-family: monospace;background-color: #f0f8ff;border: 1px dotted black;border-radius: 0.25em;box-sizing: border-box;margin-bottom: 0.5em;}#sk-container-id-1 div.sk-estimator:hover {background-color: #d4ebff;}#sk-container-id-1 div.sk-parallel-item::after {content: \"\";width: 100%;border-bottom: 1px solid gray;flex-grow: 1;}#sk-container-id-1 div.sk-label:hover label.sk-toggleable__label {background-color: #d4ebff;}#sk-container-id-1 div.sk-serial::before {content: \"\";position: absolute;border-left: 1px solid gray;box-sizing: border-box;top: 0;bottom: 0;left: 50%;z-index: 0;}#sk-container-id-1 div.sk-serial {display: flex;flex-direction: column;align-items: center;background-color: white;padding-right: 0.2em;padding-left: 0.2em;position: relative;}#sk-container-id-1 div.sk-item {position: relative;z-index: 1;}#sk-container-id-1 div.sk-parallel {display: flex;align-items: stretch;justify-content: center;background-color: white;position: relative;}#sk-container-id-1 div.sk-item::before, #sk-container-id-1 div.sk-parallel-item::before {content: \"\";position: absolute;border-left: 1px solid gray;box-sizing: border-box;top: 0;bottom: 0;left: 50%;z-index: -1;}#sk-container-id-1 div.sk-parallel-item {display: flex;flex-direction: column;z-index: 1;position: relative;background-color: white;}#sk-container-id-1 div.sk-parallel-item:first-child::after {align-self: flex-end;width: 50%;}#sk-container-id-1 div.sk-parallel-item:last-child::after {align-self: flex-start;width: 50%;}#sk-container-id-1 div.sk-parallel-item:only-child::after {width: 0;}#sk-container-id-1 div.sk-dashed-wrapped {border: 1px dashed gray;margin: 0 0.4em 0.5em 0.4em;box-sizing: border-box;padding-bottom: 0.4em;background-color: white;}#sk-container-id-1 div.sk-label label {font-family: monospace;font-weight: bold;display: inline-block;line-height: 1.2em;}#sk-container-id-1 div.sk-label-container {text-align: center;}#sk-container-id-1 div.sk-container {/* jupyter's `normalize.less` sets `[hidden] { display: none; }` but bootstrap.min.css set `[hidden] { display: none !important; }` so we also need the `!important` here to be able to override the default hidden behavior on the sphinx rendered scikit-learn.org. See: https://github.com/scikit-learn/scikit-learn/issues/21755 */display: inline-block !important;position: relative;}#sk-container-id-1 div.sk-text-repr-fallback {display: none;}</style><div id=\"sk-container-id-1\" class=\"sk-top-container\"><div class=\"sk-text-repr-fallback\"><pre>SVC(C=10, coef0=0, kernel=&#x27;sigmoid&#x27;)</pre><b>In a Jupyter environment, please rerun this cell to show the HTML representation or trust the notebook. <br />On GitHub, the HTML representation is unable to render, please try loading this page with nbviewer.org.</b></div><div class=\"sk-container\" hidden><div class=\"sk-item\"><div class=\"sk-estimator sk-toggleable\"><input class=\"sk-toggleable__control sk-hidden--visually\" id=\"sk-estimator-id-1\" type=\"checkbox\" checked><label for=\"sk-estimator-id-1\" class=\"sk-toggleable__label sk-toggleable__label-arrow\">SVC</label><div class=\"sk-toggleable__content\"><pre>SVC(C=10, coef0=0, kernel=&#x27;sigmoid&#x27;)</pre></div></div></div></div></div>"
            ]
          },
          "metadata": {},
          "execution_count": 15
        }
      ]
    },
    {
      "cell_type": "markdown",
      "source": [
        "With smote"
      ],
      "metadata": {
        "id": "cKQVluoy9qee"
      },
      "id": "cKQVluoy9qee"
    },
    {
      "cell_type": "code",
      "source": [
        "from sklearn.model_selection import KFold, GridSearchCV\n",
        "from sklearn.metrics import confusion_matrix, accuracy_score, precision_score, recall_score, f1_score, classification_report\n",
        "from sklearn.feature_extraction.text import TfidfVectorizer\n",
        "from sklearn.svm import SVC\n",
        "from sklearn.preprocessing import LabelEncoder\n",
        "from imblearn.over_sampling import SMOTE\n",
        "\n",
        "# Initialize a TfidfVectorizer\n",
        "vectorizer = TfidfVectorizer()\n",
        "\n",
        "fold_number = 10\n",
        "\n",
        "# Transform text to vectors\n",
        "X_tfidf = vectorizer.fit_transform(nd['Text'])\n",
        "y_labels = nd['Category']\n",
        "\n",
        "# Initialize a LabelEncoder\n",
        "label_encoder = LabelEncoder()\n",
        "\n",
        "# Encode the categories into numerical values\n",
        "y_labels_encoded = label_encoder.fit_transform(y_labels)\n",
        "\n",
        "# Initialize the Support Vector Machine model\n",
        "svm = SVC()\n",
        "\n",
        "# Initialize K-Fold cross-validator\n",
        "kf = KFold(n_splits=10, shuffle=True, random_state=2022)\n",
        "\n",
        "# Initialize GridSearchCV with 10-fold cross-validation and f1-macro as the scoring metric\n",
        "grid_search = GridSearchCV(estimator=svm, param_grid=param_grid, cv=kf, scoring='f1_macro')\n",
        "\n",
        "# Lists to store results per fold\n",
        "accuracies = []\n",
        "precisions = []\n",
        "recalls = []\n",
        "f1_scores = []\n",
        "conf_matrices = []\n",
        "\n",
        "# Loop over the folds\n",
        "for fold, (train_idx, test_idx) in enumerate(kf.split(X_tfidf)):\n",
        "    if fold == fold_number - 1:  # Indexes are 0-based, hence -1\n",
        "        X_train, X_test = X_tfidf[train_idx], X_tfidf[test_idx]\n",
        "        y_train, y_test = y_labels_encoded[train_idx], y_labels_encoded[test_idx]\n",
        "\n",
        "        # Apply SMOTE to balance the class distribution\n",
        "        smote = SMOTE(random_state=2022)\n",
        "        X_train_resampled, y_train_resampled = smote.fit_resample(X_train, y_train)\n",
        "\n",
        "        # Use the best parameters in your final model\n",
        "        final_svm = SVC(**best_params)\n",
        "\n",
        "        # Train the model on the resampled training data\n",
        "        final_svm.fit(X_train_resampled, y_train_resampled)\n",
        "\n",
        "        # Predict categories on the test set\n",
        "        y_pred = final_svm.predict(X_test)\n",
        "\n",
        "        # Decode the predicted labels back to the original textual categories\n",
        "        y_test_decoded = label_encoder.inverse_transform(y_test)\n",
        "        y_pred_decoded = label_encoder.inverse_transform(y_pred)\n",
        "\n",
        "        # Calculate and store the metrics\n",
        "        accuracy = accuracy_score(y_test, y_pred)\n",
        "        precision = precision_score(y_test, y_pred, average='macro')\n",
        "        recall = recall_score(y_test, y_pred, average='macro')\n",
        "        f1 = f1_score(y_test, y_pred, average='macro')\n",
        "        conf_matrix = confusion_matrix(y_test, y_pred)\n",
        "\n",
        "        accuracies.append(accuracy)\n",
        "        precisions.append(precision)\n",
        "        recalls.append(recall)\n",
        "        f1_scores.append(f1)\n",
        "        conf_matrices.append(conf_matrix)\n",
        "\n",
        "        print(f\"Fold {fold + 1} - Accuracy: {accuracy}, Precision: {precision}, Recall: {recall}, F1-Score: {f1}\")\n",
        "\n",
        "        # Print the classification report\n",
        "        print(\"Classification Report:\")\n",
        "        print(classification_report(y_test_decoded, y_pred_decoded))\n",
        "\n",
        "        # Plot the confusion matrix as a heatmap\n",
        "        plt.figure(figsize=(8, 6))\n",
        "        sns.heatmap(conf_matrix, annot=True, fmt='g', cmap='Blues', xticklabels=label_encoder.classes_, yticklabels=label_encoder.classes_)\n",
        "        plt.xlabel('Predicted Labels')\n",
        "        plt.ylabel('True Labels')\n",
        "        plt.title(f'Confusion Matrix for Fold {fold + 1}')\n",
        "        plt.show()\n",
        "\n",
        "# Average scores across all folds\n",
        "avg_accuracy = sum(accuracies) / len(accuracies)\n",
        "avg_precision = sum(precisions) / len(precisions)\n",
        "avg_recall = sum(recalls) / len(recalls)\n",
        "avg_f1 = sum(f1_scores) / len(f1_scores)\n",
        "\n",
        "print(f\"\\nAverage scores across all folds - Accuracy: {avg_accuracy}, Precision: {avg_precision}, Recall: {avg_recall}, F1-Score: {avg_f1}\")\n"
      ],
      "metadata": {
        "colab": {
          "base_uri": "https://localhost:8080/",
          "height": 879
        },
        "id": "O2S_vr0T9tNz",
        "outputId": "119c529a-0a08-48e2-8d3a-a77ca42851c7"
      },
      "id": "O2S_vr0T9tNz",
      "execution_count": null,
      "outputs": [
        {
          "output_type": "stream",
          "name": "stdout",
          "text": [
            "Fold 10 - Accuracy: 0.36, Precision: 0.2580701754385965, Recall: 0.2528083028083028, F1-Score: 0.24827128919200533\n",
            "Classification Report:\n",
            "              precision    recall  f1-score   support\n",
            "\n",
            "           0       0.37      0.27      0.31        26\n",
            "           1       0.00      0.00      0.00         5\n",
            "           2       0.44      0.63      0.52        35\n",
            "           3       0.50      0.33      0.40         3\n",
            "           4       0.24      0.29      0.26        21\n",
            "           5       0.00      0.00      0.00        10\n",
            "\n",
            "    accuracy                           0.36       100\n",
            "   macro avg       0.26      0.25      0.25       100\n",
            "weighted avg       0.32      0.36      0.33       100\n",
            "\n"
          ]
        },
        {
          "output_type": "display_data",
          "data": {
            "text/plain": [
              "<Figure size 800x600 with 2 Axes>"
            ],
            "image/png": "[encoded data removed]"
          },
          "metadata": {}
        },
        {
          "output_type": "stream",
          "name": "stdout",
          "text": [
            "\n",
            "Average scores across all folds - Accuracy: 0.36, Precision: 0.2580701754385965, Recall: 0.2528083028083028, F1-Score: 0.24827128919200533\n"
          ]
        }
      ]
    },
    {
      "cell_type": "code",
      "source": [
        "final_svm = SVC(**best_params)"
      ],
      "metadata": {
        "id": "WPDDaHnqjMdV"
      },
      "id": "WPDDaHnqjMdV",
      "execution_count": null,
      "outputs": []
    },
    {
      "cell_type": "code",
      "source": [
        "final_svm"
      ],
      "metadata": {
        "id": "_Bl7phRBjN4M",
        "outputId": "a7437fe7-9c1d-4d89-a757-bc2bb97a88a4",
        "colab": {
          "base_uri": "https://localhost:8080/",
          "height": 74
        }
      },
      "id": "_Bl7phRBjN4M",
      "execution_count": null,
      "outputs": [
        {
          "output_type": "execute_result",
          "data": {
            "text/plain": [
              "SVC(C=10, coef0=0, kernel='sigmoid')"
            ],
            "text/html": [
              "<style>#sk-container-id-1 {color: black;background-color: white;}#sk-container-id-1 pre{padding: 0;}#sk-container-id-1 div.sk-toggleable {background-color: white;}#sk-container-id-1 label.sk-toggleable__label {cursor: pointer;display: block;width: 100%;margin-bottom: 0;padding: 0.3em;box-sizing: border-box;text-align: center;}#sk-container-id-1 label.sk-toggleable__label-arrow:before {content: \"▸\";float: left;margin-right: 0.25em;color: #696969;}#sk-container-id-1 label.sk-toggleable__label-arrow:hover:before {color: black;}#sk-container-id-1 div.sk-estimator:hover label.sk-toggleable__label-arrow:before {color: black;}#sk-container-id-1 div.sk-toggleable__content {max-height: 0;max-width: 0;overflow: hidden;text-align: left;background-color: #f0f8ff;}#sk-container-id-1 div.sk-toggleable__content pre {margin: 0.2em;color: black;border-radius: 0.25em;background-color: #f0f8ff;}#sk-container-id-1 input.sk-toggleable__control:checked~div.sk-toggleable__content {max-height: 200px;max-width: 100%;overflow: auto;}#sk-container-id-1 input.sk-toggleable__control:checked~label.sk-toggleable__label-arrow:before {content: \"▾\";}#sk-container-id-1 div.sk-estimator input.sk-toggleable__control:checked~label.sk-toggleable__label {background-color: #d4ebff;}#sk-container-id-1 div.sk-label input.sk-toggleable__control:checked~label.sk-toggleable__label {background-color: #d4ebff;}#sk-container-id-1 input.sk-hidden--visually {border: 0;clip: rect(1px 1px 1px 1px);clip: rect(1px, 1px, 1px, 1px);height: 1px;margin: -1px;overflow: hidden;padding: 0;position: absolute;width: 1px;}#sk-container-id-1 div.sk-estimator {font-family: monospace;background-color: #f0f8ff;border: 1px dotted black;border-radius: 0.25em;box-sizing: border-box;margin-bottom: 0.5em;}#sk-container-id-1 div.sk-estimator:hover {background-color: #d4ebff;}#sk-container-id-1 div.sk-parallel-item::after {content: \"\";width: 100%;border-bottom: 1px solid gray;flex-grow: 1;}#sk-container-id-1 div.sk-label:hover label.sk-toggleable__label {background-color: #d4ebff;}#sk-container-id-1 div.sk-serial::before {content: \"\";position: absolute;border-left: 1px solid gray;box-sizing: border-box;top: 0;bottom: 0;left: 50%;z-index: 0;}#sk-container-id-1 div.sk-serial {display: flex;flex-direction: column;align-items: center;background-color: white;padding-right: 0.2em;padding-left: 0.2em;position: relative;}#sk-container-id-1 div.sk-item {position: relative;z-index: 1;}#sk-container-id-1 div.sk-parallel {display: flex;align-items: stretch;justify-content: center;background-color: white;position: relative;}#sk-container-id-1 div.sk-item::before, #sk-container-id-1 div.sk-parallel-item::before {content: \"\";position: absolute;border-left: 1px solid gray;box-sizing: border-box;top: 0;bottom: 0;left: 50%;z-index: -1;}#sk-container-id-1 div.sk-parallel-item {display: flex;flex-direction: column;z-index: 1;position: relative;background-color: white;}#sk-container-id-1 div.sk-parallel-item:first-child::after {align-self: flex-end;width: 50%;}#sk-container-id-1 div.sk-parallel-item:last-child::after {align-self: flex-start;width: 50%;}#sk-container-id-1 div.sk-parallel-item:only-child::after {width: 0;}#sk-container-id-1 div.sk-dashed-wrapped {border: 1px dashed gray;margin: 0 0.4em 0.5em 0.4em;box-sizing: border-box;padding-bottom: 0.4em;background-color: white;}#sk-container-id-1 div.sk-label label {font-family: monospace;font-weight: bold;display: inline-block;line-height: 1.2em;}#sk-container-id-1 div.sk-label-container {text-align: center;}#sk-container-id-1 div.sk-container {/* jupyter's `normalize.less` sets `[hidden] { display: none; }` but bootstrap.min.css set `[hidden] { display: none !important; }` so we also need the `!important` here to be able to override the default hidden behavior on the sphinx rendered scikit-learn.org. See: https://github.com/scikit-learn/scikit-learn/issues/21755 */display: inline-block !important;position: relative;}#sk-container-id-1 div.sk-text-repr-fallback {display: none;}</style><div id=\"sk-container-id-1\" class=\"sk-top-container\"><div class=\"sk-text-repr-fallback\"><pre>SVC(C=10, coef0=0, kernel=&#x27;sigmoid&#x27;)</pre><b>In a Jupyter environment, please rerun this cell to show the HTML representation or trust the notebook. <br />On GitHub, the HTML representation is unable to render, please try loading this page with nbviewer.org.</b></div><div class=\"sk-container\" hidden><div class=\"sk-item\"><div class=\"sk-estimator sk-toggleable\"><input class=\"sk-toggleable__control sk-hidden--visually\" id=\"sk-estimator-id-1\" type=\"checkbox\" checked><label for=\"sk-estimator-id-1\" class=\"sk-toggleable__label sk-toggleable__label-arrow\">SVC</label><div class=\"sk-toggleable__content\"><pre>SVC(C=10, coef0=0, kernel=&#x27;sigmoid&#x27;)</pre></div></div></div></div></div>"
            ]
          },
          "metadata": {},
          "execution_count": 18
        }
      ]
    },
    {
      "cell_type": "code",
      "source": [
        "# Voorspel de categorieën op de testset met de beste parameters\n",
        "from sklearn.metrics import confusion_matrix\n",
        "import seaborn as sns\n",
        "import matplotlib.pyplot as plt\n",
        "y_pred = final_svm.predict(X_test_tfidf)\n",
        "\n",
        "# Maak de confusion matrix\n",
        "cm = confusion_matrix(y_test, y_pred)\n",
        "\n",
        "# Visualiseer de confusion matrix met een heatmap\n",
        "plt.figure(figsize=(8, 6))\n",
        "sns.heatmap(cm, annot=True, fmt=\"d\", cmap=\"Blues\", xticklabels=final_svm.classes_, yticklabels=final_svm.classes_)\n",
        "plt.xlabel(\"Voorspelde klasse\")\n",
        "plt.ylabel(\"Werkelijke klasse\")\n",
        "plt.title(\"Confusion Matrix\")\n",
        "plt.show()"
      ],
      "metadata": {
        "colab": {
          "base_uri": "https://localhost:8080/",
          "height": 564
        },
        "id": "yKhdR638sF2b",
        "outputId": "3570e3da-9d62-4ff7-f8a8-0ee0de1400d1"
      },
      "id": "yKhdR638sF2b",
      "execution_count": null,
      "outputs": [
        {
          "output_type": "display_data",
          "data": {
            "text/plain": [
              "<Figure size 800x600 with 2 Axes>"
            ],
            "image/png": "[encoded data removed]"
          },
          "metadata": {}
        }
      ]
    },
    {
      "cell_type": "code",
      "source": [
        "# Voorbeeldzin\n",
        "example_sentence = \"ik ben boos\"\n",
        "\n",
        "# Voorbewerking van de voorbeeldzin\n",
        "example_sentence_tfidf = vectorizer.transform([example_sentence])\n",
        "\n",
        "# Voorspel de categorie van de voorbeeldzin\n",
        "example_pred = svm.predict(example_sentence_tfidf)\n",
        "\n",
        "# Druk het resultaat af\n",
        "print(f\"Voorspelde emotie voor de voorbeeldzin: {example_pred[0]}\")\n"
      ],
      "metadata": {
        "id": "RF6xlPVZUOQC"
      },
      "id": "RF6xlPVZUOQC",
      "execution_count": null,
      "outputs": []
    }
  ],
  "metadata": {
    "kernelspec": {
      "display_name": "Python 3",
      "name": "python3"
    },
    "language_info": {
      "codemirror_mode": {
        "name": "ipython",
        "version": 3
      },
      "file_extension": ".py",
      "mimetype": "text/x-python",
      "name": "python",
      "nbconvert_exporter": "python",
      "pygments_lexer": "ipython3",
      "version": "3.11.5"
    },
    "colab": {
      "provenance": [],
      "gpuType": "V100",
      "include_colab_link": true
    },
    "accelerator": "GPU"
  },
  "nbformat": 4,
  "nbformat_minor": 5
}