{
  "cells": [
    {
      "cell_type": "markdown",
      "metadata": {
        "id": "view-in-github",
        "colab_type": "text"
      },
      "source": [
        "<a href=\"https://colab.research.google.com/github/E-girgen/Thesis-Data-Science-Society/blob/main/SVM_cleaned_captions.ipynb\" target=\"_parent\"><img src=\"https://colab.research.google.com/assets/colab-badge.svg\" alt=\"Open In Colab\"/></a>"
      ]
    },
    {
      "cell_type": "code",
      "execution_count": null,
      "id": "2cc04f0b",
      "metadata": {
        "id": "2cc04f0b"
      },
      "outputs": [],
      "source": [
        "import pandas as pd"
      ]
    },
    {
      "cell_type": "code",
      "source": [
        "from google.colab import drive\n",
        "drive.mount('/content/drive')\n",
        "%cd \"/content/drive/MyDrive/\"\n",
        "%cd \"/content/drive/MyDrive/Colab Notebooks\""
      ],
      "metadata": {
        "colab": {
          "base_uri": "https://localhost:8080/"
        },
        "id": "3DmjJCaqvvhH",
        "outputId": "61f5ad16-10fc-4181-bee5-10964cd2ecbd"
      },
      "id": "3DmjJCaqvvhH",
      "execution_count": null,
      "outputs": [
        {
          "output_type": "stream",
          "name": "stdout",
          "text": [
            "Mounted at /content/drive\n",
            "/content/drive/MyDrive\n"
          ]
        }
      ]
    },
    {
      "cell_type": "code",
      "execution_count": null,
      "id": "643195d3",
      "metadata": {
        "id": "643195d3"
      },
      "outputs": [],
      "source": [
        "data = pd.read_csv(\"cleaned_captions_pre.csv\")\n",
        " # Stel tab als scheidingsteken in\n"
      ]
    },
    {
      "cell_type": "code",
      "execution_count": null,
      "id": "28456f89",
      "metadata": {
        "id": "28456f89",
        "colab": {
          "base_uri": "https://localhost:8080/"
        },
        "outputId": "08e4032d-f97b-4a7e-f6ca-edd6cce7801e"
      },
      "outputs": [
        {
          "output_type": "stream",
          "name": "stdout",
          "text": [
            "                                                Text Category\n",
            "0  kweenie of da gij al es goed hebben stilgestaa...  neutral\n",
            "1                                              santé      joy\n",
            "2  ja kvind wel spannend das zo ineens euh de vuu...     fear\n",
            "3  als ik één dag werk in in in de horecazaak waa...    anger\n",
            "4  een baas zijn een baas he die moeten je respec...    anger\n"
          ]
        }
      ],
      "source": [
        "df = data[data['Category'] != 'other']\n",
        "nd = df[[ 'Text', 'Category']]\n",
        "nd.reset_index(drop=True, inplace=True)\n",
        "print(nd.head())"
      ]
    },
    {
      "cell_type": "code",
      "source": [
        "import pandas as pd\n",
        "import spacy\n",
        "from sklearn.feature_extraction.text import CountVectorizer\n",
        "from sklearn.model_selection import train_test_split\n",
        "from sklearn.naive_bayes import MultinomialNB\n",
        "from nltk.corpus import stopwords\n",
        "from sklearn.preprocessing import LabelEncoder"
      ],
      "metadata": {
        "id": "PLAxycKJBAzT"
      },
      "id": "PLAxycKJBAzT",
      "execution_count": null,
      "outputs": []
    },
    {
      "cell_type": "code",
      "source": [
        "label_encoder = LabelEncoder()\n",
        "nd['Category'] = label_encoder.fit_transform(nd['Category'])"
      ],
      "metadata": {
        "id": "yPNHTgR3JXcY"
      },
      "id": "yPNHTgR3JXcY",
      "execution_count": null,
      "outputs": []
    },
    {
      "cell_type": "code",
      "source": [
        "label_encodings = dict(zip(label_encoder.classes_, label_encoder.transform(label_encoder.classes_)))\n",
        "print(label_encodings)"
      ],
      "metadata": {
        "colab": {
          "base_uri": "https://localhost:8080/"
        },
        "id": "Ax_d5boMBrkG",
        "outputId": "8554499e-73eb-4c87-ba5e-ac1295a0085c"
      },
      "id": "Ax_d5boMBrkG",
      "execution_count": null,
      "outputs": [
        {
          "output_type": "stream",
          "name": "stdout",
          "text": [
            "{'anger': 0, 'fear': 1, 'joy': 2, 'love': 3, 'neutral': 4, 'sadness': 5}\n"
          ]
        }
      ]
    },
    {
      "cell_type": "code",
      "execution_count": null,
      "id": "3b10053b",
      "metadata": {
        "id": "3b10053b"
      },
      "outputs": [],
      "source": [
        "import seaborn as sns\n",
        "import re\n",
        "import nltk\n",
        "import matplotlib.pyplot as plt\n",
        "from wordcloud import WordCloud\n",
        "from sklearn.ensemble import RandomForestClassifier\n",
        "from sklearn.linear_model import LogisticRegression\n",
        "from sklearn.svm import LinearSVC\n",
        "from sklearn.naive_bayes import MultinomialNB\n",
        "from sklearn.feature_extraction.text import CountVectorizer, TfidfVectorizer\n",
        "from sklearn.model_selection import train_test_split\n",
        "from sklearn.metrics import accuracy_score, classification_report\n",
        "from sklearn.preprocessing import LabelEncoder\n",
        "from tensorflow.keras.preprocessing.text import Tokenizer\n",
        "from tensorflow.keras.preprocessing.sequence import pad_sequences\n",
        "from tensorflow.keras.models import Sequential\n",
        "from tensorflow.keras.layers import Embedding, LSTM, Dense\n",
        "from tensorflow.keras.callbacks import EarlyStopping"
      ]
    },
    {
      "cell_type": "code",
      "source": [
        "from sklearn.model_selection import KFold, GridSearchCV\n",
        "from sklearn.metrics import confusion_matrix, accuracy_score, precision_score, recall_score, f1_score, classification_report\n",
        "from sklearn.feature_extraction.text import TfidfVectorizer\n",
        "from sklearn.svm import SVC\n",
        "from sklearn.preprocessing import LabelEncoder\n",
        "\n",
        "# Initialiseer een TfidfVectorizer\n",
        "vectorizer = TfidfVectorizer()\n",
        "\n",
        "fold_number = 10\n",
        "\n",
        "# Transformeer de tekst naar vectoren\n",
        "X_tfidf = vectorizer.fit_transform(nd['Text'])\n",
        "y_labels = nd['Category']\n",
        "\n",
        "# Initialiseer een LabelEncoder\n",
        "label_encoder = LabelEncoder()\n",
        "\n",
        "# Encodeer de categorieën naar numerieke waarden\n",
        "y_labels_encoded = label_encoder.fit_transform(y_labels)\n",
        "\n",
        "# Initialiseer het Support Vector Machine-model\n",
        "svm = SVC()\n",
        "\n",
        "# Definieer het parametergrid voor GridSearchCV\n",
        "param_grid = {\n",
        "    'C': [0.1, 1, 10],\n",
        "    'kernel': ['linear', 'poly', 'rbf', 'sigmoid'],\n",
        "    'degree': [3, 5, 7],\n",
        "    'coef0': [0, 1, 3]\n",
        "}\n",
        "\n",
        "# Initialiseer K-Fold cross-validator\n",
        "kf = KFold(n_splits=10, shuffle=True, random_state=2022)\n",
        "\n",
        "# Initialiseer GridSearchCV met 10-fold cross-validation en f1-macro als score\n",
        "grid_search = GridSearchCV(estimator=svm, param_grid=param_grid, cv=kf, scoring='f1_macro')\n",
        "\n",
        "# Lijsten om resultaten per fold op te slaan\n",
        "accuracies = []\n",
        "precisions = []\n",
        "recalls = []\n",
        "f1_scores = []\n",
        "conf_matrices = []\n",
        "\n",
        "# Loop over de folds\n",
        "for fold, (train_idx, test_idx) in enumerate(kf.split(X_tfidf)):\n",
        "    if fold == fold_number - 1:  # Indexen zijn 0-gebaseerd, daarom -1\n",
        "        X_train, X_test = X_tfidf[train_idx], X_tfidf[test_idx]\n",
        "        y_train, y_test = y_labels_encoded[train_idx], y_labels_encoded[test_idx]\n",
        "\n",
        "        # Voer GridSearchCV uit op de trainingsdata\n",
        "        grid_search.fit(X_train, y_train)\n",
        "\n",
        "        # Haal de beste parameters op\n",
        "        best_params = grid_search.best_params_\n",
        "\n",
        "        # Gebruik de beste parameters in je definitieve model\n",
        "        final_svm = SVC(**best_params)\n",
        "\n",
        "        # Train het model op de trainingsdata\n",
        "        final_svm.fit(X_train, y_train)\n",
        "\n",
        "        # Voorspel de categorieën op de testset\n",
        "        y_pred = final_svm.predict(X_test)\n",
        "\n",
        "        # Decodeer de voorspelde labels terug naar de originele tekstuele categorieën\n",
        "        y_test_decoded = label_encoder.inverse_transform(y_test)\n",
        "        y_pred_decoded = label_encoder.inverse_transform(y_pred)\n",
        "\n",
        "        # Bereken en sla de metingen op\n",
        "        accuracy = accuracy_score(y_test, y_pred)\n",
        "        precision = precision_score(y_test, y_pred, average='macro')\n",
        "        recall = recall_score(y_test, y_pred, average='macro')\n",
        "        f1 = f1_score(y_test, y_pred, average='macro')\n",
        "        conf_matrix = confusion_matrix(y_test, y_pred)\n",
        "\n",
        "        accuracies.append(accuracy)\n",
        "        precisions.append(precision)\n",
        "        recalls.append(recall)\n",
        "        f1_scores.append(f1)\n",
        "        conf_matrices.append(conf_matrix)\n",
        "\n",
        "        print(f\"Fold {fold + 1} - Nauwkeurigheid: {accuracy}, Precisie: {precision}, Recall: {recall}, F1-Score: {f1}\")\n",
        "\n",
        "        # Druk het classificatie rapport af\n",
        "        print(\"Classificatie Rapport:\")\n",
        "        print(classification_report(y_test_decoded, y_pred_decoded))\n",
        "\n",
        "        # Plot de verwarringstabel als een heatmap\n",
        "        plt.figure(figsize=(8, 6))\n",
        "        sns.heatmap(conf_matrix, annot=True, fmt='g', cmap='Blues', xticklabels=label_encoder.classes_, yticklabels=label_encoder.classes_)\n",
        "        plt.xlabel('Voorspelde Labels')\n",
        "        plt.ylabel('Echte Labels')\n",
        "        plt.title(f'Verwarringstabel voor Fold {fold + 1}')\n",
        "        plt.show()\n",
        "\n",
        "# Gemiddelde scores over alle folds\n",
        "avg_accuracy = sum(accuracies) / len(accuracies)\n",
        "avg_precision = sum(precisions) / len(precisions)\n",
        "avg_recall = sum(recalls) / len(recalls)\n",
        "avg_f1 = sum(f1_scores) / len(f1_scores)\n",
        "\n",
        "print(f\"\\nGemiddelde scores over alle folds - Nauwkeurigheid: {avg_accuracy}, Precisie: {avg_precision}, Recall: {avg_recall}, F1-Score: {avg_f1}\")\n"
      ],
      "metadata": {
        "colab": {
          "base_uri": "https://localhost:8080/",
          "height": 859
        },
        "id": "u-PBB1aigMC3",
        "outputId": "39c3c5f7-7830-49e6-f899-e622f2587e35"
      },
      "id": "u-PBB1aigMC3",
      "execution_count": null,
      "outputs": [
        {
          "output_type": "stream",
          "name": "stdout",
          "text": [
            "Fold 10 - Nauwkeurigheid: 0.51, Precisie: 0.46036866359447, Recall: 0.3827617615618215, F1-Score: 0.3801733854903864\n",
            "Classificatie Rapport:\n",
            "              precision    recall  f1-score   support\n",
            "\n",
            "           0       0.42      0.65      0.51        20\n",
            "           1       0.67      0.22      0.33         9\n",
            "           2       0.53      0.77      0.63        31\n",
            "           3       0.00      0.00      0.00         4\n",
            "           4       0.50      0.18      0.26        17\n",
            "           5       0.64      0.47      0.55        19\n",
            "\n",
            "    accuracy                           0.51       100\n",
            "   macro avg       0.46      0.38      0.38       100\n",
            "weighted avg       0.52      0.51      0.48       100\n",
            "\n"
          ]
        },
        {
          "output_type": "display_data",
          "data": {
            "text/plain": [
              "<Figure size 800x600 with 2 Axes>"
            ],
            "image/png": "[encoded data removed]"
          },
          "metadata": {}
        },
        {
          "output_type": "stream",
          "name": "stdout",
          "text": [
            "\n",
            "Gemiddelde scores over alle folds - Nauwkeurigheid: 0.51, Precisie: 0.46036866359447, Recall: 0.3827617615618215, F1-Score: 0.3801733854903864\n"
          ]
        }
      ]
    },
    {
      "cell_type": "code",
      "source": [
        "final_svm"
      ],
      "metadata": {
        "colab": {
          "base_uri": "https://localhost:8080/",
          "height": 74
        },
        "id": "XQOOBdlhCpzl",
        "outputId": "1e2b031b-1638-4969-b526-e0d27121e5c1"
      },
      "id": "XQOOBdlhCpzl",
      "execution_count": null,
      "outputs": [
        {
          "output_type": "execute_result",
          "data": {
            "text/plain": [
              "SVC(C=10, coef0=0, kernel='sigmoid')"
            ],
            "text/html": [
              "<style>#sk-container-id-1 {color: black;background-color: white;}#sk-container-id-1 pre{padding: 0;}#sk-container-id-1 div.sk-toggleable {background-color: white;}#sk-container-id-1 label.sk-toggleable__label {cursor: pointer;display: block;width: 100%;margin-bottom: 0;padding: 0.3em;box-sizing: border-box;text-align: center;}#sk-container-id-1 label.sk-toggleable__label-arrow:before {content: \"▸\";float: left;margin-right: 0.25em;color: #696969;}#sk-container-id-1 label.sk-toggleable__label-arrow:hover:before {color: black;}#sk-container-id-1 div.sk-estimator:hover label.sk-toggleable__label-arrow:before {color: black;}#sk-container-id-1 div.sk-toggleable__content {max-height: 0;max-width: 0;overflow: hidden;text-align: left;background-color: #f0f8ff;}#sk-container-id-1 div.sk-toggleable__content pre {margin: 0.2em;color: black;border-radius: 0.25em;background-color: #f0f8ff;}#sk-container-id-1 input.sk-toggleable__control:checked~div.sk-toggleable__content {max-height: 200px;max-width: 100%;overflow: auto;}#sk-container-id-1 input.sk-toggleable__control:checked~label.sk-toggleable__label-arrow:before {content: \"▾\";}#sk-container-id-1 div.sk-estimator input.sk-toggleable__control:checked~label.sk-toggleable__label {background-color: #d4ebff;}#sk-container-id-1 div.sk-label input.sk-toggleable__control:checked~label.sk-toggleable__label {background-color: #d4ebff;}#sk-container-id-1 input.sk-hidden--visually {border: 0;clip: rect(1px 1px 1px 1px);clip: rect(1px, 1px, 1px, 1px);height: 1px;margin: -1px;overflow: hidden;padding: 0;position: absolute;width: 1px;}#sk-container-id-1 div.sk-estimator {font-family: monospace;background-color: #f0f8ff;border: 1px dotted black;border-radius: 0.25em;box-sizing: border-box;margin-bottom: 0.5em;}#sk-container-id-1 div.sk-estimator:hover {background-color: #d4ebff;}#sk-container-id-1 div.sk-parallel-item::after {content: \"\";width: 100%;border-bottom: 1px solid gray;flex-grow: 1;}#sk-container-id-1 div.sk-label:hover label.sk-toggleable__label {background-color: #d4ebff;}#sk-container-id-1 div.sk-serial::before {content: \"\";position: absolute;border-left: 1px solid gray;box-sizing: border-box;top: 0;bottom: 0;left: 50%;z-index: 0;}#sk-container-id-1 div.sk-serial {display: flex;flex-direction: column;align-items: center;background-color: white;padding-right: 0.2em;padding-left: 0.2em;position: relative;}#sk-container-id-1 div.sk-item {position: relative;z-index: 1;}#sk-container-id-1 div.sk-parallel {display: flex;align-items: stretch;justify-content: center;background-color: white;position: relative;}#sk-container-id-1 div.sk-item::before, #sk-container-id-1 div.sk-parallel-item::before {content: \"\";position: absolute;border-left: 1px solid gray;box-sizing: border-box;top: 0;bottom: 0;left: 50%;z-index: -1;}#sk-container-id-1 div.sk-parallel-item {display: flex;flex-direction: column;z-index: 1;position: relative;background-color: white;}#sk-container-id-1 div.sk-parallel-item:first-child::after {align-self: flex-end;width: 50%;}#sk-container-id-1 div.sk-parallel-item:last-child::after {align-self: flex-start;width: 50%;}#sk-container-id-1 div.sk-parallel-item:only-child::after {width: 0;}#sk-container-id-1 div.sk-dashed-wrapped {border: 1px dashed gray;margin: 0 0.4em 0.5em 0.4em;box-sizing: border-box;padding-bottom: 0.4em;background-color: white;}#sk-container-id-1 div.sk-label label {font-family: monospace;font-weight: bold;display: inline-block;line-height: 1.2em;}#sk-container-id-1 div.sk-label-container {text-align: center;}#sk-container-id-1 div.sk-container {/* jupyter's `normalize.less` sets `[hidden] { display: none; }` but bootstrap.min.css set `[hidden] { display: none !important; }` so we also need the `!important` here to be able to override the default hidden behavior on the sphinx rendered scikit-learn.org. See: https://github.com/scikit-learn/scikit-learn/issues/21755 */display: inline-block !important;position: relative;}#sk-container-id-1 div.sk-text-repr-fallback {display: none;}</style><div id=\"sk-container-id-1\" class=\"sk-top-container\"><div class=\"sk-text-repr-fallback\"><pre>SVC(C=10, coef0=0, kernel=&#x27;sigmoid&#x27;)</pre><b>In a Jupyter environment, please rerun this cell to show the HTML representation or trust the notebook. <br />On GitHub, the HTML representation is unable to render, please try loading this page with nbviewer.org.</b></div><div class=\"sk-container\" hidden><div class=\"sk-item\"><div class=\"sk-estimator sk-toggleable\"><input class=\"sk-toggleable__control sk-hidden--visually\" id=\"sk-estimator-id-1\" type=\"checkbox\" checked><label for=\"sk-estimator-id-1\" class=\"sk-toggleable__label sk-toggleable__label-arrow\">SVC</label><div class=\"sk-toggleable__content\"><pre>SVC(C=10, coef0=0, kernel=&#x27;sigmoid&#x27;)</pre></div></div></div></div></div>"
            ]
          },
          "metadata": {},
          "execution_count": 15
        }
      ]
    },
    {
      "cell_type": "markdown",
      "source": [
        "With smote"
      ],
      "metadata": {
        "id": "cKQVluoy9qee"
      },
      "id": "cKQVluoy9qee"
    },
    {
      "cell_type": "code",
      "source": [
        "from sklearn.model_selection import KFold, GridSearchCV\n",
        "from sklearn.metrics import confusion_matrix, accuracy_score, precision_score, recall_score, f1_score, classification_report\n",
        "from sklearn.feature_extraction.text import TfidfVectorizer\n",
        "from sklearn.svm import SVC\n",
        "from sklearn.preprocessing import LabelEncoder\n",
        "from imblearn.over_sampling import SMOTE\n",
        "\n",
        "# Initialize a TfidfVectorizer\n",
        "vectorizer = TfidfVectorizer()\n",
        "\n",
        "fold_number = 10\n",
        "\n",
        "# Transform text to vectors\n",
        "X_tfidf = vectorizer.fit_transform(nd['Text'])\n",
        "y_labels = nd['Category']\n",
        "\n",
        "# Initialize a LabelEncoder\n",
        "label_encoder = LabelEncoder()\n",
        "\n",
        "# Encode the categories into numerical values\n",
        "y_labels_encoded = label_encoder.fit_transform(y_labels)\n",
        "\n",
        "# Initialize the Support Vector Machine model\n",
        "svm = SVC()\n",
        "\n",
        "# Initialize K-Fold cross-validator\n",
        "kf = KFold(n_splits=10, shuffle=True, random_state=2022)\n",
        "\n",
        "# Initialize GridSearchCV with 10-fold cross-validation and f1-macro as the scoring metric\n",
        "grid_search = GridSearchCV(estimator=svm, param_grid=param_grid, cv=kf, scoring='f1_macro')\n",
        "\n",
        "# Lists to store results per fold\n",
        "accuracies = []\n",
        "precisions = []\n",
        "recalls = []\n",
        "f1_scores = []\n",
        "conf_matrices = []\n",
        "\n",
        "# Loop over the folds\n",
        "for fold, (train_idx, test_idx) in enumerate(kf.split(X_tfidf)):\n",
        "    if fold == fold_number - 1:  # Indexes are 0-based, hence -1\n",
        "        X_train, X_test = X_tfidf[train_idx], X_tfidf[test_idx]\n",
        "        y_train, y_test = y_labels_encoded[train_idx], y_labels_encoded[test_idx]\n",
        "\n",
        "        # Apply SMOTE to balance the class distribution\n",
        "        smote = SMOTE(random_state=2022)\n",
        "        X_train_resampled, y_train_resampled = smote.fit_resample(X_train, y_train)\n",
        "\n",
        "        # Use the best parameters in your final model\n",
        "        final_svm = SVC(**best_params)\n",
        "\n",
        "        # Train the model on the resampled training data\n",
        "        final_svm.fit(X_train_resampled, y_train_resampled)\n",
        "\n",
        "        # Predict categories on the test set\n",
        "        y_pred = final_svm.predict(X_test)\n",
        "\n",
        "        # Decode the predicted labels back to the original textual categories\n",
        "        y_test_decoded = label_encoder.inverse_transform(y_test)\n",
        "        y_pred_decoded = label_encoder.inverse_transform(y_pred)\n",
        "\n",
        "        # Calculate and store the metrics\n",
        "        accuracy = accuracy_score(y_test, y_pred)\n",
        "        precision = precision_score(y_test, y_pred, average='macro')\n",
        "        recall = recall_score(y_test, y_pred, average='macro')\n",
        "        f1 = f1_score(y_test, y_pred, average='macro')\n",
        "        conf_matrix = confusion_matrix(y_test, y_pred)\n",
        "\n",
        "        accuracies.append(accuracy)\n",
        "        precisions.append(precision)\n",
        "        recalls.append(recall)\n",
        "        f1_scores.append(f1)\n",
        "        conf_matrices.append(conf_matrix)\n",
        "\n",
        "        print(f\"Fold {fold + 1} - Accuracy: {accuracy}, Precision: {precision}, Recall: {recall}, F1-Score: {f1}\")\n",
        "\n",
        "        # Print the classification report\n",
        "        print(\"Classification Report:\")\n",
        "        print(classification_report(y_test_decoded, y_pred_decoded))\n",
        "\n",
        "        # Plot the confusion matrix as a heatmap\n",
        "        plt.figure(figsize=(8, 6))\n",
        "        sns.heatmap(conf_matrix, annot=True, fmt='g', cmap='Blues', xticklabels=label_encoder.classes_, yticklabels=label_encoder.classes_)\n",
        "        plt.xlabel('Predicted Labels')\n",
        "        plt.ylabel('True Labels')\n",
        "        plt.title(f'Confusion Matrix for Fold {fold + 1}')\n",
        "        plt.show()\n",
        "\n",
        "# Average scores across all folds\n",
        "avg_accuracy = sum(accuracies) / len(accuracies)\n",
        "avg_precision = sum(precisions) / len(precisions)\n",
        "avg_recall = sum(recalls) / len(recalls)\n",
        "avg_f1 = sum(f1_scores) / len(f1_scores)\n",
        "\n",
        "print(f\"\\nAverage scores across all folds - Accuracy: {avg_accuracy}, Precision: {avg_precision}, Recall: {avg_recall}, F1-Score: {avg_f1}\")\n"
      ],
      "metadata": {
        "colab": {
          "base_uri": "https://localhost:8080/",
          "height": 859
        },
        "id": "O2S_vr0T9tNz",
        "outputId": "59c33c39-1952-4d54-a5e5-f9c504c75e40"
      },
      "id": "O2S_vr0T9tNz",
      "execution_count": null,
      "outputs": [
        {
          "output_type": "stream",
          "name": "stdout",
          "text": [
            "Fold 10 - Accuracy: 0.5, Precision: 0.46460043787629995, Recall: 0.39199818014359117, F1-Score: 0.40058097843984797\n",
            "Classification Report:\n",
            "              precision    recall  f1-score   support\n",
            "\n",
            "           0       0.41      0.60      0.49        20\n",
            "           1       0.75      0.33      0.46         9\n",
            "           2       0.52      0.71      0.60        31\n",
            "           3       0.00      0.00      0.00         4\n",
            "           4       0.50      0.24      0.32        17\n",
            "           5       0.60      0.47      0.53        19\n",
            "\n",
            "    accuracy                           0.50       100\n",
            "   macro avg       0.46      0.39      0.40       100\n",
            "weighted avg       0.51      0.50      0.48       100\n",
            "\n"
          ]
        },
        {
          "output_type": "display_data",
          "data": {
            "text/plain": [
              "<Figure size 800x600 with 2 Axes>"
            ],
            "image/png": "[encoded data removed]"
          },
          "metadata": {}
        },
        {
          "output_type": "stream",
          "name": "stdout",
          "text": [
            "\n",
            "Average scores across all folds - Accuracy: 0.5, Precision: 0.46460043787629995, Recall: 0.39199818014359117, F1-Score: 0.40058097843984797\n"
          ]
        }
      ]
    },
    {
      "cell_type": "code",
      "source": [
        "final_svm = SVC(**best_params)"
      ],
      "metadata": {
        "id": "WPDDaHnqjMdV"
      },
      "id": "WPDDaHnqjMdV",
      "execution_count": null,
      "outputs": []
    },
    {
      "cell_type": "code",
      "source": [
        "final_svm"
      ],
      "metadata": {
        "id": "_Bl7phRBjN4M",
        "outputId": "a7437fe7-9c1d-4d89-a757-bc2bb97a88a4",
        "colab": {
          "base_uri": "https://localhost:8080/",
          "height": 74
        }
      },
      "id": "_Bl7phRBjN4M",
      "execution_count": null,
      "outputs": [
        {
          "output_type": "execute_result",
          "data": {
            "text/plain": [
              "SVC(C=10, coef0=0, kernel='sigmoid')"
            ],
            "text/html": [
              "<style>#sk-container-id-1 {color: black;background-color: white;}#sk-container-id-1 pre{padding: 0;}#sk-container-id-1 div.sk-toggleable {background-color: white;}#sk-container-id-1 label.sk-toggleable__label {cursor: pointer;display: block;width: 100%;margin-bottom: 0;padding: 0.3em;box-sizing: border-box;text-align: center;}#sk-container-id-1 label.sk-toggleable__label-arrow:before {content: \"▸\";float: left;margin-right: 0.25em;color: #696969;}#sk-container-id-1 label.sk-toggleable__label-arrow:hover:before {color: black;}#sk-container-id-1 div.sk-estimator:hover label.sk-toggleable__label-arrow:before {color: black;}#sk-container-id-1 div.sk-toggleable__content {max-height: 0;max-width: 0;overflow: hidden;text-align: left;background-color: #f0f8ff;}#sk-container-id-1 div.sk-toggleable__content pre {margin: 0.2em;color: black;border-radius: 0.25em;background-color: #f0f8ff;}#sk-container-id-1 input.sk-toggleable__control:checked~div.sk-toggleable__content {max-height: 200px;max-width: 100%;overflow: auto;}#sk-container-id-1 input.sk-toggleable__control:checked~label.sk-toggleable__label-arrow:before {content: \"▾\";}#sk-container-id-1 div.sk-estimator input.sk-toggleable__control:checked~label.sk-toggleable__label {background-color: #d4ebff;}#sk-container-id-1 div.sk-label input.sk-toggleable__control:checked~label.sk-toggleable__label {background-color: #d4ebff;}#sk-container-id-1 input.sk-hidden--visually {border: 0;clip: rect(1px 1px 1px 1px);clip: rect(1px, 1px, 1px, 1px);height: 1px;margin: -1px;overflow: hidden;padding: 0;position: absolute;width: 1px;}#sk-container-id-1 div.sk-estimator {font-family: monospace;background-color: #f0f8ff;border: 1px dotted black;border-radius: 0.25em;box-sizing: border-box;margin-bottom: 0.5em;}#sk-container-id-1 div.sk-estimator:hover {background-color: #d4ebff;}#sk-container-id-1 div.sk-parallel-item::after {content: \"\";width: 100%;border-bottom: 1px solid gray;flex-grow: 1;}#sk-container-id-1 div.sk-label:hover label.sk-toggleable__label {background-color: #d4ebff;}#sk-container-id-1 div.sk-serial::before {content: \"\";position: absolute;border-left: 1px solid gray;box-sizing: border-box;top: 0;bottom: 0;left: 50%;z-index: 0;}#sk-container-id-1 div.sk-serial {display: flex;flex-direction: column;align-items: center;background-color: white;padding-right: 0.2em;padding-left: 0.2em;position: relative;}#sk-container-id-1 div.sk-item {position: relative;z-index: 1;}#sk-container-id-1 div.sk-parallel {display: flex;align-items: stretch;justify-content: center;background-color: white;position: relative;}#sk-container-id-1 div.sk-item::before, #sk-container-id-1 div.sk-parallel-item::before {content: \"\";position: absolute;border-left: 1px solid gray;box-sizing: border-box;top: 0;bottom: 0;left: 50%;z-index: -1;}#sk-container-id-1 div.sk-parallel-item {display: flex;flex-direction: column;z-index: 1;position: relative;background-color: white;}#sk-container-id-1 div.sk-parallel-item:first-child::after {align-self: flex-end;width: 50%;}#sk-container-id-1 div.sk-parallel-item:last-child::after {align-self: flex-start;width: 50%;}#sk-container-id-1 div.sk-parallel-item:only-child::after {width: 0;}#sk-container-id-1 div.sk-dashed-wrapped {border: 1px dashed gray;margin: 0 0.4em 0.5em 0.4em;box-sizing: border-box;padding-bottom: 0.4em;background-color: white;}#sk-container-id-1 div.sk-label label {font-family: monospace;font-weight: bold;display: inline-block;line-height: 1.2em;}#sk-container-id-1 div.sk-label-container {text-align: center;}#sk-container-id-1 div.sk-container {/* jupyter's `normalize.less` sets `[hidden] { display: none; }` but bootstrap.min.css set `[hidden] { display: none !important; }` so we also need the `!important` here to be able to override the default hidden behavior on the sphinx rendered scikit-learn.org. See: https://github.com/scikit-learn/scikit-learn/issues/21755 */display: inline-block !important;position: relative;}#sk-container-id-1 div.sk-text-repr-fallback {display: none;}</style><div id=\"sk-container-id-1\" class=\"sk-top-container\"><div class=\"sk-text-repr-fallback\"><pre>SVC(C=10, coef0=0, kernel=&#x27;sigmoid&#x27;)</pre><b>In a Jupyter environment, please rerun this cell to show the HTML representation or trust the notebook. <br />On GitHub, the HTML representation is unable to render, please try loading this page with nbviewer.org.</b></div><div class=\"sk-container\" hidden><div class=\"sk-item\"><div class=\"sk-estimator sk-toggleable\"><input class=\"sk-toggleable__control sk-hidden--visually\" id=\"sk-estimator-id-1\" type=\"checkbox\" checked><label for=\"sk-estimator-id-1\" class=\"sk-toggleable__label sk-toggleable__label-arrow\">SVC</label><div class=\"sk-toggleable__content\"><pre>SVC(C=10, coef0=0, kernel=&#x27;sigmoid&#x27;)</pre></div></div></div></div></div>"
            ]
          },
          "metadata": {},
          "execution_count": 18
        }
      ]
    },
    {
      "cell_type": "code",
      "source": [
        "best_params"
      ],
      "metadata": {
        "id": "eRBy-ppZ6svx"
      },
      "id": "eRBy-ppZ6svx",
      "execution_count": null,
      "outputs": []
    },
    {
      "cell_type": "code",
      "source": [
        "example_sentence = \"ik ben boos\"\n",
        "example_sentence_tfidf = vectorizer.transform([example_sentence])\n",
        "example_pred = svm.predict(example_sentence_tfidf)\n",
        "print(f\"Voorspelde emotie voor de voorbeeldzin: {example_pred[0]}\")\n"
      ],
      "metadata": {
        "id": "RF6xlPVZUOQC"
      },
      "id": "RF6xlPVZUOQC",
      "execution_count": null,
      "outputs": []
    }
  ],
  "metadata": {
    "kernelspec": {
      "display_name": "Python 3",
      "name": "python3"
    },
    "language_info": {
      "codemirror_mode": {
        "name": "ipython",
        "version": 3
      },
      "file_extension": ".py",
      "mimetype": "text/x-python",
      "name": "python",
      "nbconvert_exporter": "python",
      "pygments_lexer": "ipython3",
      "version": "3.11.5"
    },
    "colab": {
      "provenance": [],
      "gpuType": "V100",
      "include_colab_link": true
    },
    "accelerator": "GPU"
  },
  "nbformat": 4,
  "nbformat_minor": 5
}